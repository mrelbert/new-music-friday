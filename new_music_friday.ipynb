{
 "cells": [
  {
   "cell_type": "code",
   "execution_count": 1,
   "metadata": {},
   "outputs": [],
   "source": [
    "import os"
   ]
  },
  {
   "cell_type": "code",
   "execution_count": 19,
   "metadata": {},
   "outputs": [
    {
     "name": "stdout",
     "output_type": "stream",
     "text": [
      "env: SPOTIPY_CLIENT_ID=86e5c7e1ef6d4247ae6d51e14e276f7e\n",
      "env: SPOTIPY_CLIENT_SECRET=4f6c86dd18a4442bbe49f4d3a4ad1aad\n",
      "env: SPOTIPY_REDIRECT_URI=https://google.com/\n"
     ]
    }
   ],
   "source": [
    "%env SPOTIPY_CLIENT_ID=########\n",
    "%env SPOTIPY_CLIENT_SECRET=########\n",
    "%env SPOTIPY_REDIRECT_URI=https://google.com/"
   ]
  },
  {
   "cell_type": "code",
   "execution_count": 42,
   "metadata": {
    "collapsed": true,
    "jupyter": {
     "outputs_hidden": true,
     "source_hidden": true
    }
   },
   "outputs": [
    {
     "name": "stdout",
     "output_type": "stream",
     "text": [
      "environ({'TERM_PROGRAM': 'Apple_Terminal', 'SHELL': '/bin/bash', 'TERM': 'xterm-color', 'TMPDIR': '/var/folders/tr/_fvxp48n7bjdj8nq7sbbzrxr0000gq/T/', 'CONDA_SHLVL': '1', 'Apple_PubSub_Socket_Render': '/private/tmp/com.apple.launchd.CQc6BGLdOL/Render', 'CONDA_PROMPT_MODIFIER': '(spotify) ', 'TERM_PROGRAM_VERSION': '421.2', 'OLDPWD': '/Users/scraper/Desktop', 'TERM_SESSION_ID': '343FC1EA-B7D1-4705-AC2F-AC0B599FB3FC', 'USER': 'scraper', 'CONDA_EXE': '/Users/scraper/miniconda3/bin/conda', 'SSH_AUTH_SOCK': '/private/tmp/com.apple.launchd.qo7u0VZ0Aw/Listeners', '_CE_CONDA': '', 'PATH': '/Users/scraper/miniconda3/envs/spotify/bin:/Users/scraper/miniconda3/condabin:/Library/Frameworks/Python.framework/Versions/3.6/bin:/usr/local/bin:/usr/bin:/bin:/usr/sbin:/sbin:/Library/TeX/texbin', 'CONDA_PREFIX': '/Users/scraper/miniconda3/envs/spotify', 'PWD': '/Users/scraper/Desktop/spotify-venv', 'LANG': 'en_US.UTF-8', 'XPC_FLAGS': '0x0', 'PS1': '(spotify) \\\\h:\\\\W \\\\u\\\\$ ', '_CE_M': '', 'XPC_SERVICE_NAME': '0', 'SHLVL': '1', 'HOME': '/Users/scraper', 'CONDA_PYTHON_EXE': '/Users/scraper/miniconda3/bin/python', 'LOGNAME': 'scraper', 'CONDA_DEFAULT_ENV': 'spotify', 'SECURITYSESSIONID': '186a7', '_': '/Users/scraper/miniconda3/envs/spotify/bin/jupyter', 'JPY_PARENT_PID': '79081', 'CLICOLOR': '1', 'PAGER': 'cat', 'GIT_PAGER': 'cat', 'MPLBACKEND': 'module://ipykernel.pylab.backend_inline', 'SPOTIPY_CLIENT_ID': '86e5c7e1ef6d4247ae6d51e14e276f7e', 'SPOTIPY_CLIENT_SECRET': '4f6c86dd18a4442bbe49f4d3a4ad1aad', 'SPOTIPY_REDIRECT_URI': 'https://google.com/'})\n"
     ]
    }
   ],
   "source": [
    "print(os.environ)"
   ]
  },
  {
   "cell_type": "markdown",
   "metadata": {},
   "source": [
    "# Import libraries"
   ]
  },
  {
   "cell_type": "code",
   "execution_count": 13,
   "metadata": {},
   "outputs": [],
   "source": [
    "import spotipy\n",
    "import json\n",
    "from spotipy.oauth2 import SpotifyClientCredentials"
   ]
  },
  {
   "cell_type": "markdown",
   "metadata": {},
   "source": [
    "## Authenticate your spotify object"
   ]
  },
  {
   "cell_type": "code",
   "execution_count": 22,
   "metadata": {},
   "outputs": [],
   "source": [
    "auth_manager = SpotifyClientCredentials()\n",
    "sp = spotipy.Spotify(auth_manager=auth_manager)"
   ]
  },
  {
   "cell_type": "markdown",
   "metadata": {},
   "source": [
    "### some info"
   ]
  },
  {
   "cell_type": "code",
   "execution_count": 16,
   "metadata": {},
   "outputs": [],
   "source": [
    "# New Music Friday playlist URI as of 11/01/2020\n",
    "# spotify:playlist:37i9dQZF1DX4JAvHpjipBk"
   ]
  },
  {
   "cell_type": "markdown",
   "metadata": {},
   "source": [
    "#### Enter playlist id and extract items"
   ]
  },
  {
   "cell_type": "code",
   "execution_count": 25,
   "metadata": {},
   "outputs": [],
   "source": [
    "pl = sp.playlist_items('37i9dQZF1DX4JAvHpjipBk')\n",
    "tracks = pl['items']"
   ]
  },
  {
   "cell_type": "markdown",
   "metadata": {},
   "source": [
    "###### Loop through tracks and add dictionaries to a master list"
   ]
  },
  {
   "cell_type": "code",
   "execution_count": 36,
   "metadata": {},
   "outputs": [],
   "source": [
    "track_list = []\n",
    "for track in tracks:\n",
    "    temp_dic = {}\n",
    "\n",
    "    artist = track['track']['album']['artists'][0]['name']\n",
    "    title = track['track']['album']['name']\n",
    "    popularity = track['track']['popularity']\n",
    "    duration_ms = track['track']['duration_ms']\n",
    "    duration_sec = int(duration_ms/1000)\n",
    "    explicit = track['track']['explicit']\n",
    "    id = track['track']['id']\n",
    "\n",
    "    temp_dic['artist'] = artist\n",
    "    temp_dic['title'] = title\n",
    "    temp_dic['popularity'] = popularity\n",
    "    temp_dic['length'] = duration_sec\n",
    "    temp_dic['explicit'] = explicit\n",
    "    temp_dic['id'] = id\n",
    "\n",
    "    track_list.append(temp_dic)"
   ]
  },
  {
   "cell_type": "markdown",
   "metadata": {},
   "source": [
    "### List of dictionaries"
   ]
  },
  {
   "cell_type": "code",
   "execution_count": 39,
   "metadata": {},
   "outputs": [],
   "source": [
    "# print(json.dumps(track_list, sort_keys=True, indent=4))"
   ]
  },
  {
   "cell_type": "markdown",
   "metadata": {},
   "source": [
    "### Length of dictionary"
   ]
  },
  {
   "cell_type": "code",
   "execution_count": 35,
   "metadata": {},
   "outputs": [
    {
     "name": "stdout",
     "output_type": "stream",
     "text": [
      "100\n"
     ]
    }
   ],
   "source": [
    "print(len(track_list))"
   ]
  }
 ],
 "metadata": {
  "kernelspec": {
   "display_name": "Python 3",
   "language": "python",
   "name": "python3"
  },
  "language_info": {
   "codemirror_mode": {
    "name": "ipython",
    "version": 3
   },
   "file_extension": ".py",
   "mimetype": "text/x-python",
   "name": "python",
   "nbconvert_exporter": "python",
   "pygments_lexer": "ipython3",
   "version": "3.7.8"
  }
 },
 "nbformat": 4,
 "nbformat_minor": 4
}
